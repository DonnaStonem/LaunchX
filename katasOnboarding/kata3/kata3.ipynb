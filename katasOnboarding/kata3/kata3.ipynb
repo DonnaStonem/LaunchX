{
 "cells": [
  {
   "cell_type": "markdown",
   "metadata": {},
   "source": [
    "## ESCRIBIR DECLARACIONES if, else y elif"
   ]
  },
  {
   "cell_type": "code",
   "execution_count": null,
   "metadata": {},
   "outputs": [],
   "source": [
    "velocidad = 49\n",
    "if velocidad >= 25:\n",
    "    print(\"¡ALERTA! Asteroide en camino\")\n",
    "else:\n",
    "    print(\"Ningun problema hasta el momento\")"
   ]
  },
  {
   "cell_type": "code",
   "execution_count": null,
   "metadata": {},
   "outputs": [],
   "source": [
    "velocidad = 19\n",
    "if velocidad > 20:\n",
    "    print(\"¡SE VE UN RAYO DE LUZ!\")\n",
    "elif velocidad == 20\n",
    "    print(\"¡SE VE UN RAYO DE LUZ!\")\n",
    "else\n",
    "    print(\"No puedes ver el rayo de luz\")"
   ]
  },
  {
   "cell_type": "markdown",
   "metadata": {},
   "source": [
    "## OPERADORES AND y OR"
   ]
  },
  {
   "cell_type": "code",
   "execution_count": null,
   "metadata": {},
   "outputs": [],
   "source": [
    "medidaAsteroide = 49\n",
    "velocidad = 25\n",
    "if velocidad > 25 and medidaAsteroide > 25:\n",
    "    print(\"Un asteroide afectará a la Tierra!\")\n",
    "elif velocidad >= 20:\n",
    "    print(\"¡Hay un rayo de luz!\")\n",
    "elif medidaAsteroide < 25:\n",
    "    print(\"No hay nada\")\n",
    "else:\n",
    "    print(\"No hay nada\")"
   ]
  }
 ],
 "metadata": {
  "language_info": {
   "name": "python"
  },
  "orig_nbformat": 4
 },
 "nbformat": 4,
 "nbformat_minor": 2
}
